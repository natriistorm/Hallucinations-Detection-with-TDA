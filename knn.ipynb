{
  "cells": [
    {
      "cell_type": "markdown",
      "metadata": {
        "collapsed": true,
        "id": "AVrTCedtw-CU"
      },
      "source": [
        "\n",
        "Набор данных по цветкам ириса или набор данных по ирисам Фишера - это многомерный набор данных, представленный британским статистиком и биологом Рональдом Фишером в его работе 1936 года «Использование множественных измерений в таксономических проблемах» в качестве примера линейного дискриминантного анализа.\n",
        "\n",
        "Этот знаменитый набор данных по ирисам содержит измерения в сантиметрах переменных длины и ширины чашелистика и длины и ширины лепестка, соответственно, для 50 цветков каждого из 3 видов ирисов. Эти виды - Iris setosa, versicolor и virginica. На основе комбинации этих четырех признаков Фишер разработал модель для отличия видов друг от друга.\n",
        "\n",
        "Набор данных содержит 150 записей по 5 признакам.\n",
        "\n",
        "1. длина чашелистика в см\n",
        "2. ширина чашелистика в см\n",
        "3. длина лепестка в см\n",
        "4. ширина лепестка в см\n",
        "5. Виды:  \n",
        "-- Iris Setosa\n",
        "-- Iris Versicolour\n",
        "-- Iris Virginica\n",
        "\n",
        "Ваша цель на сегодня - научиться отличать их друг от друга"
      ]
    },
    {
      "cell_type": "code",
      "execution_count": null,
      "metadata": {
        "id": "sT6K1Qd8w-CW"
      },
      "outputs": [],
      "source": [
        "import pandas as pd\n",
        "import numpy as np\n",
        "import seaborn as sns"
      ]
    },
    {
      "cell_type": "markdown",
      "metadata": {
        "id": "RH7MCl86HIJ0"
      },
      "source": [
        "# Подсказки для самостоятельного выполнения\n",
        "\n",
        "1. Загрузите данные\n",
        "\n",
        "2. Проведите анализ данных. Нужно ли нормировать данные? Если да, воспользуйтесь StandardScaler()\n",
        "\n",
        "3. Загрузите KNNClassifier из sklearn. Попробуйте поварьировать значения k и посмотреть как меняется качество\n",
        "\n",
        "3a. Дополнительно можете посмотреть в документации различные способы считать расстояние между объектами. Постройте границы классов (смотрите пример внизу) для каждого расстояние и сравните границы. Какое расстояние наиболее оптимально использовать?\n",
        "\n",
        "4. Подумайте, какую метрику качества в данном случае оптимально использовать?"
      ]
    },
    {
      "cell_type": "markdown",
      "metadata": {
        "id": "uslEswJGw-CX"
      },
      "source": [
        "# Данные\n",
        "\n",
        "\n",
        "Загрузите в колаб файл iris.csv и давайте посмотрим на первые несколько строк"
      ]
    },
    {
      "cell_type": "code",
      "execution_count": null,
      "metadata": {
        "id": "sPDhIXRbw-CX"
      },
      "outputs": [],
      "source": [
        "iris_data = pd.read_csv('iris.csv')\n",
        "\n",
        "iris_data.columns = ['sepal_length', 'sepal_width' , 'petal_length', 'petal_width', 'species']\n",
        "\n",
        "iris_data.head(10)\n"
      ]
    },
    {
      "cell_type": "markdown",
      "metadata": {
        "id": "trYK_ClBx_3Y"
      },
      "source": [
        "Размер нашего датасета:"
      ]
    },
    {
      "cell_type": "code",
      "execution_count": null,
      "metadata": {
        "id": "4USwdlqvw-CY",
        "outputId": "9f4a3172-4078-4d99-b073-448b84046c09"
      },
      "outputs": [
        {
          "data": {
            "text/plain": [
              "(149, 5)"
            ]
          },
          "execution_count": 50,
          "metadata": {},
          "output_type": "execute_result"
        }
      ],
      "source": [
        "iris_data.shape"
      ]
    },
    {
      "cell_type": "code",
      "execution_count": null,
      "metadata": {
        "id": "ohpQDga6w-CY",
        "outputId": "0a41f66c-f34d-4d4d-ef42-777f8c1040b1"
      },
      "outputs": [
        {
          "data": {
            "text/plain": [
              "array(['Iris-setosa', 'Iris-versicolor', 'Iris-virginica'], dtype=object)"
            ]
          },
          "execution_count": 51,
          "metadata": {},
          "output_type": "execute_result"
        }
      ],
      "source": [
        "iris_data['species'].unique()"
      ]
    },
    {
      "cell_type": "code",
      "execution_count": null,
      "metadata": {
        "id": "gR9pqzA4w-CZ",
        "outputId": "098fa836-8ab9-4ec3-c732-ad2cfe686268"
      },
      "outputs": [
        {
          "name": "stdout",
          "output_type": "stream",
          "text": [
            "species\n",
            "Iris-setosa        49\n",
            "Iris-versicolor    50\n",
            "Iris-virginica     50\n",
            "dtype: int64\n"
          ]
        }
      ],
      "source": [
        "print(iris_data.groupby('species').size())"
      ]
    },
    {
      "cell_type": "markdown",
      "metadata": {
        "id": "TVEE5BGKyDAY"
      },
      "source": [
        "Видим, что у нас сбалансированный датасет"
      ]
    },
    {
      "cell_type": "markdown",
      "metadata": {
        "id": "UlhXFreGyGL_"
      },
      "source": [
        "Посчитайте минимальные и максимальные значения по каждому из признаков, среднее значение и медиану"
      ]
    },
    {
      "cell_type": "code",
      "execution_count": null,
      "metadata": {
        "id": "YfUUfM-IyL-9"
      },
      "outputs": [],
      "source": [
        "# ваш код"
      ]
    },
    {
      "cell_type": "markdown",
      "metadata": {
        "id": "RXzsJv7tyZje"
      },
      "source": [
        "Используя describe функцию и transpose выведите таблицу со всей информацией по каждому из 4 признаков (У вас должна получиться таблица с 4 строками)"
      ]
    },
    {
      "cell_type": "code",
      "execution_count": null,
      "metadata": {
        "id": "nD-86Z7rynfW"
      },
      "outputs": [],
      "source": [
        "# ваш код"
      ]
    },
    {
      "cell_type": "markdown",
      "metadata": {
        "id": "y1J2TJLTyrcN"
      },
      "source": [
        "Построим боксплот чтобы посмотреть на наличие выборосов"
      ]
    },
    {
      "cell_type": "code",
      "execution_count": null,
      "metadata": {
        "id": "fPxdb_Ubw-Cl"
      },
      "outputs": [],
      "source": [
        "import seaborn as sns\n",
        "import matplotlib.pyplot as plt\n",
        "sns.set(style=\"whitegrid\", palette=\"GnBu_d\", rc={'figure.figsize':(11.7,8.27)})\n",
        "\n",
        "title=\"Распределение длины чашелистика\"\n",
        "\n",
        "sns.boxplot(x=\"species\", y=\"sepal_length\", data=iris_data)\n",
        "\n",
        "# increasing font size\n",
        "plt.title(title, fontsize=26)\n",
        "# Show the plot\n",
        "plt.show()\n"
      ]
    },
    {
      "cell_type": "code",
      "execution_count": null,
      "metadata": {
        "id": "RTF9v0_uw-Cl"
      },
      "outputs": [],
      "source": [
        "import seaborn as sns\n",
        "import matplotlib.pyplot as plt\n",
        "sns.set(style=\"whitegrid\", palette=\"GnBu_d\", rc={'figure.figsize':(11.7,8.27)})\n",
        "\n",
        "title=\"Распределение ширины чашелистика\"\n",
        "\n",
        "sns.boxplot(x=\"species\", y=\"sepal_width\", data=iris_data)\n",
        "\n",
        "# increasing font size\n",
        "plt.title(title, fontsize=26)\n",
        "plt.show()"
      ]
    },
    {
      "cell_type": "code",
      "execution_count": null,
      "metadata": {
        "id": "-fTQak35w-Cl"
      },
      "outputs": [],
      "source": [
        "import seaborn as sns\n",
        "import matplotlib.pyplot as plt\n",
        "sns.set(style=\"whitegrid\", palette=\"GnBu_d\", rc={'figure.figsize':(11.7,8.27)})\n",
        "\n",
        "title=\"Распределение длины лепестков\"\n",
        "\n",
        "sns.boxplot(x=\"species\", y=\"petal_length\", data=iris_data)\n",
        "\n",
        "# increasing font size\n",
        "plt.title(title, fontsize=26)\n",
        "plt.show()"
      ]
    },
    {
      "cell_type": "code",
      "execution_count": null,
      "metadata": {
        "id": "xO5qsafqw-Cl"
      },
      "outputs": [],
      "source": [
        "import seaborn as sns\n",
        "import matplotlib.pyplot as plt\n",
        "sns.set(style=\"whitegrid\", palette=\"GnBu_d\", rc={'figure.figsize':(11.7,8.27)})\n",
        "\n",
        "title=\"Распределение ширины лепестков\"\n",
        "\n",
        "sns.boxplot(x=\"species\", y=\"petal_width\", data=iris_data)\n",
        "\n",
        "# increasing font size\n",
        "plt.title(title, fontsize=26)\n",
        "plt.show()"
      ]
    },
    {
      "cell_type": "markdown",
      "metadata": {
        "id": "4p_oRFgwzAvr"
      },
      "source": [
        "Что вы видите? Различаются ли эти характеристики у разных видов ирисов?"
      ]
    },
    {
      "cell_type": "markdown",
      "metadata": {
        "id": "CF8D8uIsw-Cl"
      },
      "source": [
        "Теперь сравним лепестки между собой"
      ]
    },
    {
      "cell_type": "code",
      "execution_count": null,
      "metadata": {},
      "outputs": [],
      "source": [
        "import holoviews as hv\n",
        "import seaborn as sns\n",
        "hv.extension('bokeh', 'matplotlib')"
      ]
    },
    {
      "cell_type": "code",
      "execution_count": null,
      "metadata": {
        "collapsed": true,
        "id": "o5orvzD-w-Cm"
      },
      "outputs": [],
      "source": [
        "from bokeh.plotting import figure, output_file, show\n",
        "output_file(\"test1.html\")\n",
        "\n",
        "color1 = '#fcc5c0'\n",
        "color2 = '#f768a1'\n",
        "color3 = '#7a0177'\n",
        "\n",
        "#adding colors\n",
        "colormap = {'Iris-setosa': color1, 'Iris-versicolor': color2, 'Iris-virginica': color3}\n",
        "colors = [colormap[x] for x in iris_data['species']]\n",
        "\n",
        "#adding labels\n",
        "p = figure(title = \"Petal Width and Petal Length\")\n",
        "p.xaxis.axis_label = 'Petal Length'\n",
        "p.yaxis.axis_label = 'Petal Width'\n",
        "p.legend.location = \"top_left\"\n",
        "\n",
        "p.diamond(iris_data[\"petal_length\"], iris_data[\"petal_width\"],color=colors, fill_alpha=0.2, size=10)\n",
        "\n",
        "\n",
        "show(p)"
      ]
    },
    {
      "cell_type": "markdown",
      "metadata": {
        "id": "CgcPWdQPw-Cm"
      },
      "source": [
        "# Сравним ширину лепестков и длину чашелистика у разных видов"
      ]
    },
    {
      "cell_type": "code",
      "execution_count": null,
      "metadata": {
        "collapsed": true,
        "id": "T7wCHUFMw-Cm"
      },
      "outputs": [],
      "source": [
        "from bokeh.plotting import figure, output_file, show\n",
        "output_file(\"test2.html\")\n",
        "\n",
        "#adding colors\n",
        "colormap = {'Iris-setosa': color1, 'Iris-versicolor': color2, 'Iris-virginica': color3}\n",
        "colors = [colormap[x] for x in iris_data['species']]\n",
        "\n",
        "#adding labels\n",
        "p = figure(title = \"Petal Width and Sepal Length\")\n",
        "p.xaxis.axis_label = 'Sepal Length'\n",
        "p.yaxis.axis_label = 'Petal Width'\n",
        "\n",
        "\n",
        "p.circle(iris_data[\"sepal_length\"], iris_data[\"petal_width\"],\n",
        "         color=colors, fill_alpha=0.2, size=10)\n",
        "\n",
        "\n",
        "show(p)"
      ]
    },
    {
      "cell_type": "markdown",
      "metadata": {
        "id": "644zQAMkw-Cm"
      },
      "source": [
        "# Построим Pairplot\n",
        "чтобы посмотреть на то как относятся друг к другу различные признаки"
      ]
    },
    {
      "cell_type": "code",
      "execution_count": null,
      "metadata": {
        "id": "nxOcxh9Rw-Cm",
        "scrolled": true
      },
      "outputs": [],
      "source": [
        "\n",
        "import seaborn as sns\n",
        "sns.pairplot(iris_data, hue=\"species\", palette=\"GnBu_d\", markers=[\"o\", \"s\", \"D\"])\n",
        "\n",
        "sns.despine()\n",
        "\n",
        "import matplotlib.pyplot as plt\n",
        "plt.show()"
      ]
    },
    {
      "cell_type": "code",
      "execution_count": null,
      "metadata": {
        "id": "eVNLNkiHw-Cn"
      },
      "outputs": [],
      "source": [
        "import seaborn as sns\n",
        "\n",
        "sns.set(style=\"whitegrid\", palette=\"GnBu_d\", rc={'figure.figsize':(11.7,8.27)})\n",
        "\n",
        "iris2 = pd.melt(iris_data, \"species\", var_name=\"measurement\")\n",
        "\n",
        "sns.swarmplot(x=\"measurement\", y=\"value\", hue=\"species\",palette=\"GnBu_d\", data=iris2)\n",
        "\n",
        "sns.despine()\n",
        "\n",
        "import matplotlib.pyplot as plt\n",
        "plt.show()"
      ]
    },
    {
      "cell_type": "code",
      "execution_count": null,
      "metadata": {
        "id": "z1_e_MSuw-Cr"
      },
      "outputs": [],
      "source": [
        "import seaborn as sns\n",
        "sns.set(style=\"whitegrid\", palette=\"GnBu_d\", rc={'figure.figsize':(11.7,8.27)})\n",
        "\n",
        "\n",
        "sns.violinplot(x=\"species\", y=\"petal_length\", palette=\"GnBu_d\", data=iris_data)\n",
        "sns.despine()\n",
        "import matplotlib.pyplot as plt\n",
        "plt.show()\n"
      ]
    },
    {
      "cell_type": "code",
      "execution_count": null,
      "metadata": {
        "id": "SPGW47fLw-Cr"
      },
      "outputs": [],
      "source": [
        "import seaborn as sns\n",
        "sns.set(style=\"whitegrid\", palette=\"GnBu_d\", rc={'figure.figsize':(11.7,8.27)})\n",
        "\n",
        "sns.violinplot(x=\"species\", y=\"petal_width\", palette=\"GnBu_d\", data=iris_data)\n",
        "sns.despine()\n",
        "\n",
        "import matplotlib.pyplot as plt\n",
        "plt.show()"
      ]
    },
    {
      "cell_type": "code",
      "execution_count": null,
      "metadata": {
        "id": "5EyPHI-xw-Cs"
      },
      "outputs": [],
      "source": [
        "import matplotlib.pyplot as plt\n",
        "iris_data.plot(kind='box', subplots=True, layout=(2,2), sharex=False, sharey=False)\n",
        "plt.show()"
      ]
    },
    {
      "cell_type": "markdown",
      "metadata": {
        "id": "irXwi0pWw-Cs"
      },
      "source": [
        "# KNN"
      ]
    },
    {
      "cell_type": "code",
      "execution_count": null,
      "metadata": {
        "collapsed": true,
        "id": "SkyRtB44w-Cs"
      },
      "outputs": [],
      "source": [
        "from sklearn.datasets import load_iris"
      ]
    },
    {
      "cell_type": "code",
      "execution_count": null,
      "metadata": {
        "id": "DmM6DEI2w-Cs",
        "outputId": "0d559af3-f80f-4adc-856c-f566ccf91081"
      },
      "outputs": [
        {
          "data": {
            "text/plain": [
              "sklearn.utils.Bunch"
            ]
          },
          "execution_count": 110,
          "metadata": {},
          "output_type": "execute_result"
        }
      ],
      "source": [
        "iris = load_iris()\n",
        "type(iris)"
      ]
    },
    {
      "cell_type": "markdown",
      "metadata": {
        "id": "koZU7DmU0MUd"
      },
      "source": [
        "Посмотрим на данные еще раз, убедимся что с ними все ок"
      ]
    },
    {
      "cell_type": "code",
      "execution_count": null,
      "metadata": {
        "id": "6LOCYGYcw-Cs"
      },
      "outputs": [],
      "source": [
        "print(iris.data)"
      ]
    },
    {
      "cell_type": "code",
      "execution_count": null,
      "metadata": {
        "id": "JqXx9cWjw-Ct",
        "outputId": "7e467491-d22f-46a9-c9d8-f00e7a364d24"
      },
      "outputs": [
        {
          "name": "stdout",
          "output_type": "stream",
          "text": [
            "[0 0 0 0 0 0 0 0 0 0 0 0 0 0 0 0 0 0 0 0 0 0 0 0 0 0 0 0 0 0 0 0 0 0 0 0 0\n",
            " 0 0 0 0 0 0 0 0 0 0 0 0 0 1 1 1 1 1 1 1 1 1 1 1 1 1 1 1 1 1 1 1 1 1 1 1 1\n",
            " 1 1 1 1 1 1 1 1 1 1 1 1 1 1 1 1 1 1 1 1 1 1 1 1 1 1 2 2 2 2 2 2 2 2 2 2 2\n",
            " 2 2 2 2 2 2 2 2 2 2 2 2 2 2 2 2 2 2 2 2 2 2 2 2 2 2 2 2 2 2 2 2 2 2 2 2 2\n",
            " 2 2]\n",
            "['setosa' 'versicolor' 'virginica']\n",
            "['sepal length (cm)', 'sepal width (cm)', 'petal length (cm)', 'petal width (cm)']\n"
          ]
        }
      ],
      "source": [
        "# целевые переменные\n",
        "print(iris.target)\n",
        "\n",
        "# имена  целевых переменных\n",
        "print(iris.target_names)\n",
        "\n",
        "# имена признаков\n",
        "print(iris.feature_names)"
      ]
    },
    {
      "cell_type": "code",
      "execution_count": null,
      "metadata": {
        "id": "5BYhVQ2Jw-Ct"
      },
      "outputs": [],
      "source": [
        "from sklearn.datasets import load_iris\n",
        "iris = load_iris()\n",
        "\n",
        "from matplotlib import pyplot as plt\n",
        "\n",
        "# The indices of the features that we are plotting\n",
        "x_index = 0\n",
        "y_index = 1\n",
        "\n",
        "# this formatter will label the colorbar with the correct target names\n",
        "formatter = plt.FuncFormatter(lambda i, *args: iris.target_names[int(i)])\n",
        "\n",
        "plt.figure(figsize=(5, 4))\n",
        "plt.scatter(iris.data[:, x_index], iris.data[:, y_index], c=iris.target)\n",
        "plt.colorbar(ticks=[0, 1, 2], format=formatter)\n",
        "plt.xlabel(iris.feature_names[x_index])\n",
        "plt.ylabel(iris.feature_names[y_index])\n",
        "\n",
        "plt.tight_layout()\n",
        "plt.show()"
      ]
    },
    {
      "cell_type": "code",
      "execution_count": null,
      "metadata": {
        "id": "d3M_JAuHw-Ct"
      },
      "outputs": [],
      "source": [
        "X = iris.data\n",
        "y = iris.target\n",
        "\n",
        "print(X.shape)\n",
        "print(y.shape)\n",
        "print(np.unique(y))"
      ]
    },
    {
      "cell_type": "markdown",
      "metadata": {
        "id": "e_FC2OOC0lTa"
      },
      "source": [
        "Загружаем модель KNN"
      ]
    },
    {
      "cell_type": "code",
      "execution_count": null,
      "metadata": {
        "id": "jFIcMUigw-Ct"
      },
      "outputs": [],
      "source": [
        "\n",
        "from sklearn.neighbors import KNeighborsClassifier\n",
        "\n",
        "# (k = 1)\n",
        "knn = KNeighborsClassifier(n_neighbors=1)\n",
        "\n",
        "print(knn)"
      ]
    },
    {
      "cell_type": "code",
      "execution_count": null,
      "metadata": {
        "id": "pbkgCvxww-Cu",
        "outputId": "18fe0022-0644-4451-a72f-016eee391284"
      },
      "outputs": [
        {
          "data": {
            "text/plain": [
              "KNeighborsClassifier(algorithm='auto', leaf_size=30, metric='minkowski',\n",
              "           metric_params=None, n_jobs=1, n_neighbors=1, p=2,\n",
              "           weights='uniform')"
            ]
          },
          "execution_count": 117,
          "metadata": {},
          "output_type": "execute_result"
        }
      ],
      "source": [
        "knn.fit(X, y)"
      ]
    },
    {
      "cell_type": "code",
      "execution_count": null,
      "metadata": {
        "id": "qQtr8gp4w-Cu"
      },
      "outputs": [],
      "source": [
        "# Попробуем определить тип ириса у которого\n",
        "# 3 см x 5 см чашелистик и 4 см x 2 см лепесток?\n",
        "\n",
        "result = knn.predict([[3, 5, 4, 2]])\n",
        "\n",
        "print(iris.target_names[result])"
      ]
    },
    {
      "cell_type": "code",
      "execution_count": null,
      "metadata": {
        "id": "viVrQaxQw-Cu"
      },
      "outputs": [],
      "source": [
        "X_new = [[3, 5, 4, 2], [5, 4, 3, 2]]\n",
        "knn.predict(X_new)"
      ]
    },
    {
      "cell_type": "code",
      "execution_count": null,
      "metadata": {
        "id": "0MTdJSjdw-Cu"
      },
      "outputs": [],
      "source": [
        "import numpy as np\n",
        "from matplotlib import pyplot as plt\n",
        "from sklearn import neighbors, datasets\n",
        "from matplotlib.colors import ListedColormap\n",
        "\n",
        "\n",
        "cmap_light = ListedColormap(['#FFAAAA', '#AAFFAA', '#AAAAFF'])\n",
        "cmap_bold = ListedColormap(['#FF0000', '#00FF00', '#0000FF'])\n",
        "\n",
        "iris = datasets.load_iris()\n",
        "X = iris.data[:, :2]\n",
        "y = iris.target\n",
        "\n",
        "knn = neighbors.KNeighborsClassifier(n_neighbors=1)\n",
        "knn.fit(X, y)\n",
        "\n",
        "x_min, x_max = X[:, 0].min() - .1, X[:, 0].max() + .1\n",
        "y_min, y_max = X[:, 1].min() - .1, X[:, 1].max() + .1\n",
        "xx, yy = np.meshgrid(np.linspace(x_min, x_max, 100),\n",
        "                        np.linspace(y_min, y_max, 100))\n",
        "Z = knn.predict(np.c_[xx.ravel(), yy.ravel()])\n",
        "\n",
        "Z = Z.reshape(xx.shape)\n",
        "plt.figure()\n",
        "plt.pcolormesh(xx, yy, Z, cmap=cmap_light)\n",
        "\n",
        "# Plot also the training points\n",
        "plt.scatter(X[:, 0], X[:, 1], c=y, cmap=cmap_bold)\n",
        "plt.xlabel('sepal length (cm)')\n",
        "plt.ylabel('sepal width (cm)')\n",
        "plt.axis('tight')\n",
        "plt.show()"
      ]
    },
    {
      "cell_type": "markdown",
      "metadata": {
        "id": "v_AnMmpi06so"
      },
      "source": [
        "Попробуйте поварьировать число K и обучить новые алгоритмы, посмотрев как меняются границы между классами.\n",
        "\n",
        "Дополнительно нужно посчитать качество классификации - разделите выборку на обучающую и тестовую, и с помощью sklearn.metrics посчитайте качество классификации\n",
        "```(metrics.accuracy_score(y_test, predictions))```\n",
        "\n",
        "смотрите ноутбук classification.ipynb для примеров"
      ]
    },
    {
      "cell_type": "markdown",
      "metadata": {
        "id": "SwO2JhIL2aov"
      },
      "source": [
        "Дополнительно можно добавлять различные гиперпараметры"
      ]
    },
    {
      "cell_type": "markdown",
      "metadata": {
        "id": "wG5-sx9l2l31"
      },
      "source": [
        "Чтобы посмотреть возможные гиперпараметры выделите название класса (в данном случае KNeighborsClassifier) держите мышку на выделении и немного подождите, выскочит окно с документацией со всеми возможными гиперпараметрами"
      ]
    },
    {
      "cell_type": "code",
      "execution_count": null,
      "metadata": {
        "colab": {
          "base_uri": "https://localhost:8080/"
        },
        "id": "LaefaTAw2g2D",
        "outputId": "774a042a-d5ac-4160-8d67-2fcd81c334ee"
      },
      "outputs": [
        {
          "name": "stdout",
          "output_type": "stream",
          "text": [
            "Object `KNeighborsClassifier` not found.\n"
          ]
        }
      ],
      "source": [
        "KNeighborsClassifier()"
      ]
    },
    {
      "cell_type": "code",
      "execution_count": null,
      "metadata": {
        "id": "ozNcwtHs2dLL"
      },
      "outputs": [],
      "source": [
        "example_knn = KNeighborsClassifier(metric='minkowski',\n",
        "                                   n_neighbors=5,\n",
        "                                   p=2,\n",
        "                                   weights='uniform')"
      ]
    }
  ],
  "metadata": {
    "colab": {
      "provenance": [],
      "toc_visible": true
    },
    "kernelspec": {
      "display_name": "Python 3",
      "language": "python",
      "name": "python3"
    },
    "language_info": {
      "codemirror_mode": {
        "name": "ipython",
        "version": 3
      },
      "file_extension": ".py",
      "mimetype": "text/x-python",
      "name": "python",
      "nbconvert_exporter": "python",
      "pygments_lexer": "ipython3",
      "version": "3.6.3"
    }
  },
  "nbformat": 4,
  "nbformat_minor": 0
}
