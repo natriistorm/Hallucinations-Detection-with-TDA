{
  "cells": [
    {
      "cell_type": "markdown",
      "metadata": {
        "collapsed": true,
        "id": "AVrTCedtw-CU"
      },
      "source": [
        "\n",
        "Набор данных по цветкам ириса или набор данных по ирисам Фишера - это многомерный набор данных, представленный британским статистиком и биологом Рональдом Фишером в его работе 1936 года «Использование множественных измерений в таксономических проблемах» в качестве примера линейного дискриминантного анализа.\n",
        "\n",
        "Этот знаменитый набор данных по ирисам содержит измерения в сантиметрах переменных длины и ширины чашелистика и длины и ширины лепестка, соответственно, для 50 цветков каждого из 3 видов ирисов. Эти виды - Iris setosa, versicolor и virginica. На основе комбинации этих четырех признаков Фишер разработал модель для отличия видов друг от друга.\n",
        "\n",
        "Набор данных содержит 150 записей по 5 признакам.\n",
        "\n",
        "1. длина чашелистика в см\n",
        "2. ширина чашелистика в см\n",
        "3. длина лепестка в см\n",
        "4. ширина лепестка в см\n",
        "5. Виды:  \n",
        "-- Iris Setosa\n",
        "-- Iris Versicolour\n",
        "-- Iris Virginica\n",
        "\n",
        "Ваша цель на сегодня - научиться отличать их друг от друга"
      ]
    },
    {
      "cell_type": "code",
      "execution_count": 1,
      "metadata": {
        "id": "sT6K1Qd8w-CW"
      },
      "outputs": [],
      "source": [
        "import pandas as pd\n",
        "import numpy as np\n",
        "import seaborn as sns"
      ]
    },
    {
      "cell_type": "markdown",
      "metadata": {
        "id": "uslEswJGw-CX"
      },
      "source": [
        "# Данные\n",
        "\n",
        "\n",
        "Загрузите в колаб файл iris.csv и давайте посмотрим на первые несколько строк"
      ]
    },
    {
      "cell_type": "code",
      "execution_count": 6,
      "metadata": {
        "colab": {
          "base_uri": "https://localhost:8080/",
          "height": 408
        },
        "id": "sPDhIXRbw-CX",
        "outputId": "8c08453d-771a-40d3-ecf3-d21ee7c443b7"
      },
      "outputs": [
        {
          "output_type": "error",
          "ename": "FileNotFoundError",
          "evalue": "[Errno 2] No such file or directory: 'iris.csv'",
          "traceback": [
            "\u001b[0;31m---------------------------------------------------------------------------\u001b[0m",
            "\u001b[0;31mFileNotFoundError\u001b[0m                         Traceback (most recent call last)",
            "\u001b[0;32m<ipython-input-6-8f617adb7769>\u001b[0m in \u001b[0;36m<cell line: 1>\u001b[0;34m()\u001b[0m\n\u001b[0;32m----> 1\u001b[0;31m \u001b[0miris_data\u001b[0m \u001b[0;34m=\u001b[0m \u001b[0mpd\u001b[0m\u001b[0;34m.\u001b[0m\u001b[0mread_csv\u001b[0m\u001b[0;34m(\u001b[0m\u001b[0;34m'iris.csv'\u001b[0m\u001b[0;34m)\u001b[0m\u001b[0;34m\u001b[0m\u001b[0;34m\u001b[0m\u001b[0m\n\u001b[0m\u001b[1;32m      2\u001b[0m \u001b[0;34m\u001b[0m\u001b[0m\n\u001b[1;32m      3\u001b[0m \u001b[0miris_data\u001b[0m\u001b[0;34m.\u001b[0m\u001b[0mcolumns\u001b[0m \u001b[0;34m=\u001b[0m \u001b[0;34m[\u001b[0m\u001b[0;34m'sepal_length'\u001b[0m\u001b[0;34m,\u001b[0m \u001b[0;34m'sepal_width'\u001b[0m \u001b[0;34m,\u001b[0m \u001b[0;34m'petal_length'\u001b[0m\u001b[0;34m,\u001b[0m \u001b[0;34m'petal_width'\u001b[0m\u001b[0;34m,\u001b[0m \u001b[0;34m'species'\u001b[0m\u001b[0;34m]\u001b[0m\u001b[0;34m\u001b[0m\u001b[0;34m\u001b[0m\u001b[0m\n\u001b[1;32m      4\u001b[0m \u001b[0;34m\u001b[0m\u001b[0m\n\u001b[1;32m      5\u001b[0m \u001b[0miris_data\u001b[0m\u001b[0;34m.\u001b[0m\u001b[0mhead\u001b[0m\u001b[0;34m(\u001b[0m\u001b[0;36m10\u001b[0m\u001b[0;34m)\u001b[0m\u001b[0;34m\u001b[0m\u001b[0;34m\u001b[0m\u001b[0m\n",
            "\u001b[0;32m/usr/local/lib/python3.10/dist-packages/pandas/io/parsers/readers.py\u001b[0m in \u001b[0;36mread_csv\u001b[0;34m(filepath_or_buffer, sep, delimiter, header, names, index_col, usecols, dtype, engine, converters, true_values, false_values, skipinitialspace, skiprows, skipfooter, nrows, na_values, keep_default_na, na_filter, verbose, skip_blank_lines, parse_dates, infer_datetime_format, keep_date_col, date_parser, date_format, dayfirst, cache_dates, iterator, chunksize, compression, thousands, decimal, lineterminator, quotechar, quoting, doublequote, escapechar, comment, encoding, encoding_errors, dialect, on_bad_lines, delim_whitespace, low_memory, memory_map, float_precision, storage_options, dtype_backend)\u001b[0m\n\u001b[1;32m    946\u001b[0m     \u001b[0mkwds\u001b[0m\u001b[0;34m.\u001b[0m\u001b[0mupdate\u001b[0m\u001b[0;34m(\u001b[0m\u001b[0mkwds_defaults\u001b[0m\u001b[0;34m)\u001b[0m\u001b[0;34m\u001b[0m\u001b[0;34m\u001b[0m\u001b[0m\n\u001b[1;32m    947\u001b[0m \u001b[0;34m\u001b[0m\u001b[0m\n\u001b[0;32m--> 948\u001b[0;31m     \u001b[0;32mreturn\u001b[0m \u001b[0m_read\u001b[0m\u001b[0;34m(\u001b[0m\u001b[0mfilepath_or_buffer\u001b[0m\u001b[0;34m,\u001b[0m \u001b[0mkwds\u001b[0m\u001b[0;34m)\u001b[0m\u001b[0;34m\u001b[0m\u001b[0;34m\u001b[0m\u001b[0m\n\u001b[0m\u001b[1;32m    949\u001b[0m \u001b[0;34m\u001b[0m\u001b[0m\n\u001b[1;32m    950\u001b[0m \u001b[0;34m\u001b[0m\u001b[0m\n",
            "\u001b[0;32m/usr/local/lib/python3.10/dist-packages/pandas/io/parsers/readers.py\u001b[0m in \u001b[0;36m_read\u001b[0;34m(filepath_or_buffer, kwds)\u001b[0m\n\u001b[1;32m    609\u001b[0m \u001b[0;34m\u001b[0m\u001b[0m\n\u001b[1;32m    610\u001b[0m     \u001b[0;31m# Create the parser.\u001b[0m\u001b[0;34m\u001b[0m\u001b[0;34m\u001b[0m\u001b[0m\n\u001b[0;32m--> 611\u001b[0;31m     \u001b[0mparser\u001b[0m \u001b[0;34m=\u001b[0m \u001b[0mTextFileReader\u001b[0m\u001b[0;34m(\u001b[0m\u001b[0mfilepath_or_buffer\u001b[0m\u001b[0;34m,\u001b[0m \u001b[0;34m**\u001b[0m\u001b[0mkwds\u001b[0m\u001b[0;34m)\u001b[0m\u001b[0;34m\u001b[0m\u001b[0;34m\u001b[0m\u001b[0m\n\u001b[0m\u001b[1;32m    612\u001b[0m \u001b[0;34m\u001b[0m\u001b[0m\n\u001b[1;32m    613\u001b[0m     \u001b[0;32mif\u001b[0m \u001b[0mchunksize\u001b[0m \u001b[0;32mor\u001b[0m \u001b[0miterator\u001b[0m\u001b[0;34m:\u001b[0m\u001b[0;34m\u001b[0m\u001b[0;34m\u001b[0m\u001b[0m\n",
            "\u001b[0;32m/usr/local/lib/python3.10/dist-packages/pandas/io/parsers/readers.py\u001b[0m in \u001b[0;36m__init__\u001b[0;34m(self, f, engine, **kwds)\u001b[0m\n\u001b[1;32m   1446\u001b[0m \u001b[0;34m\u001b[0m\u001b[0m\n\u001b[1;32m   1447\u001b[0m         \u001b[0mself\u001b[0m\u001b[0;34m.\u001b[0m\u001b[0mhandles\u001b[0m\u001b[0;34m:\u001b[0m \u001b[0mIOHandles\u001b[0m \u001b[0;34m|\u001b[0m \u001b[0;32mNone\u001b[0m \u001b[0;34m=\u001b[0m \u001b[0;32mNone\u001b[0m\u001b[0;34m\u001b[0m\u001b[0;34m\u001b[0m\u001b[0m\n\u001b[0;32m-> 1448\u001b[0;31m         \u001b[0mself\u001b[0m\u001b[0;34m.\u001b[0m\u001b[0m_engine\u001b[0m \u001b[0;34m=\u001b[0m \u001b[0mself\u001b[0m\u001b[0;34m.\u001b[0m\u001b[0m_make_engine\u001b[0m\u001b[0;34m(\u001b[0m\u001b[0mf\u001b[0m\u001b[0;34m,\u001b[0m \u001b[0mself\u001b[0m\u001b[0;34m.\u001b[0m\u001b[0mengine\u001b[0m\u001b[0;34m)\u001b[0m\u001b[0;34m\u001b[0m\u001b[0;34m\u001b[0m\u001b[0m\n\u001b[0m\u001b[1;32m   1449\u001b[0m \u001b[0;34m\u001b[0m\u001b[0m\n\u001b[1;32m   1450\u001b[0m     \u001b[0;32mdef\u001b[0m \u001b[0mclose\u001b[0m\u001b[0;34m(\u001b[0m\u001b[0mself\u001b[0m\u001b[0;34m)\u001b[0m \u001b[0;34m->\u001b[0m \u001b[0;32mNone\u001b[0m\u001b[0;34m:\u001b[0m\u001b[0;34m\u001b[0m\u001b[0;34m\u001b[0m\u001b[0m\n",
            "\u001b[0;32m/usr/local/lib/python3.10/dist-packages/pandas/io/parsers/readers.py\u001b[0m in \u001b[0;36m_make_engine\u001b[0;34m(self, f, engine)\u001b[0m\n\u001b[1;32m   1703\u001b[0m                 \u001b[0;32mif\u001b[0m \u001b[0;34m\"b\"\u001b[0m \u001b[0;32mnot\u001b[0m \u001b[0;32min\u001b[0m \u001b[0mmode\u001b[0m\u001b[0;34m:\u001b[0m\u001b[0;34m\u001b[0m\u001b[0;34m\u001b[0m\u001b[0m\n\u001b[1;32m   1704\u001b[0m                     \u001b[0mmode\u001b[0m \u001b[0;34m+=\u001b[0m \u001b[0;34m\"b\"\u001b[0m\u001b[0;34m\u001b[0m\u001b[0;34m\u001b[0m\u001b[0m\n\u001b[0;32m-> 1705\u001b[0;31m             self.handles = get_handle(\n\u001b[0m\u001b[1;32m   1706\u001b[0m                 \u001b[0mf\u001b[0m\u001b[0;34m,\u001b[0m\u001b[0;34m\u001b[0m\u001b[0;34m\u001b[0m\u001b[0m\n\u001b[1;32m   1707\u001b[0m                 \u001b[0mmode\u001b[0m\u001b[0;34m,\u001b[0m\u001b[0;34m\u001b[0m\u001b[0;34m\u001b[0m\u001b[0m\n",
            "\u001b[0;32m/usr/local/lib/python3.10/dist-packages/pandas/io/common.py\u001b[0m in \u001b[0;36mget_handle\u001b[0;34m(path_or_buf, mode, encoding, compression, memory_map, is_text, errors, storage_options)\u001b[0m\n\u001b[1;32m    861\u001b[0m         \u001b[0;32mif\u001b[0m \u001b[0mioargs\u001b[0m\u001b[0;34m.\u001b[0m\u001b[0mencoding\u001b[0m \u001b[0;32mand\u001b[0m \u001b[0;34m\"b\"\u001b[0m \u001b[0;32mnot\u001b[0m \u001b[0;32min\u001b[0m \u001b[0mioargs\u001b[0m\u001b[0;34m.\u001b[0m\u001b[0mmode\u001b[0m\u001b[0;34m:\u001b[0m\u001b[0;34m\u001b[0m\u001b[0;34m\u001b[0m\u001b[0m\n\u001b[1;32m    862\u001b[0m             \u001b[0;31m# Encoding\u001b[0m\u001b[0;34m\u001b[0m\u001b[0;34m\u001b[0m\u001b[0m\n\u001b[0;32m--> 863\u001b[0;31m             handle = open(\n\u001b[0m\u001b[1;32m    864\u001b[0m                 \u001b[0mhandle\u001b[0m\u001b[0;34m,\u001b[0m\u001b[0;34m\u001b[0m\u001b[0;34m\u001b[0m\u001b[0m\n\u001b[1;32m    865\u001b[0m                 \u001b[0mioargs\u001b[0m\u001b[0;34m.\u001b[0m\u001b[0mmode\u001b[0m\u001b[0;34m,\u001b[0m\u001b[0;34m\u001b[0m\u001b[0;34m\u001b[0m\u001b[0m\n",
            "\u001b[0;31mFileNotFoundError\u001b[0m: [Errno 2] No such file or directory: 'iris.csv'"
          ]
        }
      ],
      "source": [
        "iris_data = pd.read_csv('iris.csv')\n",
        "\n",
        "iris_data.columns = ['sepal_length', 'sepal_width' , 'petal_length', 'petal_width', 'species']\n",
        "\n",
        "iris_data.head(10)\n"
      ]
    },
    {
      "cell_type": "markdown",
      "source": [
        "Размер нашего датасета:"
      ],
      "metadata": {
        "id": "trYK_ClBx_3Y"
      }
    },
    {
      "cell_type": "code",
      "execution_count": null,
      "metadata": {
        "id": "4USwdlqvw-CY",
        "outputId": "9f4a3172-4078-4d99-b073-448b84046c09"
      },
      "outputs": [
        {
          "data": {
            "text/plain": [
              "(149, 5)"
            ]
          },
          "execution_count": 50,
          "metadata": {},
          "output_type": "execute_result"
        }
      ],
      "source": [
        "iris_data.shape"
      ]
    },
    {
      "cell_type": "code",
      "execution_count": null,
      "metadata": {
        "id": "ohpQDga6w-CY",
        "outputId": "0a41f66c-f34d-4d4d-ef42-777f8c1040b1"
      },
      "outputs": [
        {
          "data": {
            "text/plain": [
              "array(['Iris-setosa', 'Iris-versicolor', 'Iris-virginica'], dtype=object)"
            ]
          },
          "execution_count": 51,
          "metadata": {},
          "output_type": "execute_result"
        }
      ],
      "source": [
        "iris_data['species'].unique()"
      ]
    },
    {
      "cell_type": "code",
      "execution_count": null,
      "metadata": {
        "id": "gR9pqzA4w-CZ",
        "outputId": "098fa836-8ab9-4ec3-c732-ad2cfe686268"
      },
      "outputs": [
        {
          "name": "stdout",
          "output_type": "stream",
          "text": [
            "species\n",
            "Iris-setosa        49\n",
            "Iris-versicolor    50\n",
            "Iris-virginica     50\n",
            "dtype: int64\n"
          ]
        }
      ],
      "source": [
        "print(iris_data.groupby('species').size())"
      ]
    },
    {
      "cell_type": "markdown",
      "source": [
        "Видим, что у нас сбалансированный датасет"
      ],
      "metadata": {
        "id": "TVEE5BGKyDAY"
      }
    },
    {
      "cell_type": "markdown",
      "source": [
        "Посчитайте минимальные и максимальные значения по каждому из признаков, среднее значение и медиану"
      ],
      "metadata": {
        "id": "UlhXFreGyGL_"
      }
    },
    {
      "cell_type": "code",
      "source": [
        "# ваш код"
      ],
      "metadata": {
        "id": "YfUUfM-IyL-9"
      },
      "execution_count": null,
      "outputs": []
    },
    {
      "cell_type": "markdown",
      "source": [
        "Используя describe функцию и transpose выведите таблицу со всей информацией по каждому из 4 признаков (У вас должна получиться таблица с 4 строками)"
      ],
      "metadata": {
        "id": "RXzsJv7tyZje"
      }
    },
    {
      "cell_type": "code",
      "source": [
        "# ваш код"
      ],
      "metadata": {
        "id": "nD-86Z7rynfW"
      },
      "execution_count": null,
      "outputs": []
    },
    {
      "cell_type": "markdown",
      "source": [
        "Построим боксплот чтобы посмотреть на наличие выборосов"
      ],
      "metadata": {
        "id": "y1J2TJLTyrcN"
      }
    },
    {
      "cell_type": "code",
      "execution_count": null,
      "metadata": {
        "id": "fPxdb_Ubw-Cl"
      },
      "outputs": [],
      "source": [
        "import seaborn as sns\n",
        "import matplotlib.pyplot as plt\n",
        "sns.set(style=\"whitegrid\", palette=\"GnBu_d\", rc={'figure.figsize':(11.7,8.27)})\n",
        "\n",
        "title=\"Распределение длины чашелистика\"\n",
        "\n",
        "sns.boxplot(x=\"species\", y=\"sepal_length\", data=iris_data)\n",
        "\n",
        "# increasing font size\n",
        "plt.title(title, fontsize=26)\n",
        "# Show the plot\n",
        "plt.show()\n"
      ]
    },
    {
      "cell_type": "code",
      "execution_count": null,
      "metadata": {
        "id": "RTF9v0_uw-Cl"
      },
      "outputs": [],
      "source": [
        "import seaborn as sns\n",
        "import matplotlib.pyplot as plt\n",
        "sns.set(style=\"whitegrid\", palette=\"GnBu_d\", rc={'figure.figsize':(11.7,8.27)})\n",
        "\n",
        "title=\"Распределение ширины чашелистика\"\n",
        "\n",
        "sns.boxplot(x=\"species\", y=\"sepal_width\", data=iris_data)\n",
        "\n",
        "# increasing font size\n",
        "plt.title(title, fontsize=26)\n",
        "plt.show()"
      ]
    },
    {
      "cell_type": "code",
      "execution_count": null,
      "metadata": {
        "id": "-fTQak35w-Cl"
      },
      "outputs": [],
      "source": [
        "import seaborn as sns\n",
        "import matplotlib.pyplot as plt\n",
        "sns.set(style=\"whitegrid\", palette=\"GnBu_d\", rc={'figure.figsize':(11.7,8.27)})\n",
        "\n",
        "title=\"Распределение длины лепестков\"\n",
        "\n",
        "sns.boxplot(x=\"species\", y=\"petal_length\", data=iris_data)\n",
        "\n",
        "# increasing font size\n",
        "plt.title(title, fontsize=26)\n",
        "plt.show()"
      ]
    },
    {
      "cell_type": "code",
      "execution_count": null,
      "metadata": {
        "id": "xO5qsafqw-Cl"
      },
      "outputs": [],
      "source": [
        "import seaborn as sns\n",
        "import matplotlib.pyplot as plt\n",
        "sns.set(style=\"whitegrid\", palette=\"GnBu_d\", rc={'figure.figsize':(11.7,8.27)})\n",
        "\n",
        "title=\"Распределение ширины лепестков\"\n",
        "\n",
        "sns.boxplot(x=\"species\", y=\"petal_width\", data=iris_data)\n",
        "\n",
        "# increasing font size\n",
        "plt.title(title, fontsize=26)\n",
        "plt.show()"
      ]
    },
    {
      "cell_type": "markdown",
      "source": [
        "Что вы видите? Различаются ли эти характеристики у разных видов ирисов?"
      ],
      "metadata": {
        "id": "4p_oRFgwzAvr"
      }
    },
    {
      "cell_type": "markdown",
      "metadata": {
        "id": "CF8D8uIsw-Cl"
      },
      "source": [
        "Теперь сравним лепестки между собой"
      ]
    },
    {
      "cell_type": "code",
      "execution_count": null,
      "metadata": {
        "collapsed": true,
        "id": "o5orvzD-w-Cm"
      },
      "outputs": [],
      "source": [
        "from bokeh.plotting import figure, output_file, show\n",
        "output_file(\"test1.html\")\n",
        "\n",
        "color1 = '#fcc5c0'\n",
        "color2 = '#f768a1'\n",
        "color3 = '#7a0177'\n",
        "\n",
        "#adding colors\n",
        "colormap = {'Iris-setosa': color1, 'Iris-versicolor': color2, 'Iris-virginica': color3}\n",
        "colors = [colormap[x] for x in iris_data['species']]\n",
        "\n",
        "#adding labels\n",
        "p = figure(title = \"Petal Width and Petal Length\")\n",
        "p.xaxis.axis_label = 'Petal Length'\n",
        "p.yaxis.axis_label = 'Petal Width'\n",
        "p.legend.location = \"top_left\"\n",
        "\n",
        "p.diamond(iris_data[\"petal_length\"], iris_data[\"petal_width\"],color=colors, fill_alpha=0.2, size=10)\n",
        "\n",
        "\n",
        "show(p)"
      ]
    },
    {
      "cell_type": "markdown",
      "metadata": {
        "id": "CgcPWdQPw-Cm"
      },
      "source": [
        "# Сравним ширину лепестков и длину чашелистика у разных видов"
      ]
    },
    {
      "cell_type": "code",
      "execution_count": null,
      "metadata": {
        "collapsed": true,
        "id": "T7wCHUFMw-Cm"
      },
      "outputs": [],
      "source": [
        "from bokeh.plotting import figure, output_file, show\n",
        "output_file(\"test2.html\")\n",
        "\n",
        "#adding colors\n",
        "colormap = {'Iris-setosa': color1, 'Iris-versicolor': color2, 'Iris-virginica': color3}\n",
        "colors = [colormap[x] for x in iris_data['species']]\n",
        "\n",
        "#adding labels\n",
        "p = figure(title = \"Petal Width and Sepal Length\")\n",
        "p.xaxis.axis_label = 'Sepal Length'\n",
        "p.yaxis.axis_label = 'Petal Width'\n",
        "\n",
        "\n",
        "p.circle(iris_data[\"sepal_length\"], iris_data[\"petal_width\"],\n",
        "         color=colors, fill_alpha=0.2, size=10)\n",
        "\n",
        "\n",
        "show(p)"
      ]
    },
    {
      "cell_type": "markdown",
      "metadata": {
        "id": "644zQAMkw-Cm"
      },
      "source": [
        "# Построим Pairplot\n",
        "чтобы посмотреть на то как относятся друг к другу различные признаки"
      ]
    },
    {
      "cell_type": "code",
      "execution_count": null,
      "metadata": {
        "scrolled": true,
        "id": "nxOcxh9Rw-Cm"
      },
      "outputs": [],
      "source": [
        "\n",
        "import seaborn as sns\n",
        "sns.pairplot(iris_data, hue=\"species\", palette=\"GnBu_d\", markers=[\"o\", \"s\", \"D\"])\n",
        "\n",
        "sns.despine()\n",
        "\n",
        "import matplotlib.pyplot as plt\n",
        "plt.show()"
      ]
    },
    {
      "cell_type": "code",
      "execution_count": null,
      "metadata": {
        "id": "w-gzEyvNw-Cm"
      },
      "outputs": [],
      "source": [
        "\n",
        "import seaborn as sns\n",
        "sns.set(style=\"whitegrid\")\n",
        "\n",
        "sns.pairplot(iris_data, hue=\"species\", palette=\"GnBu_d\", diag_kind=\"kde\", markers=[\"o\", \"s\", \"D\"])\n",
        "\n",
        "sns.despine()\n",
        "\n",
        "import matplotlib.pyplot as plt\n",
        "plt.show()"
      ]
    },
    {
      "cell_type": "code",
      "execution_count": null,
      "metadata": {
        "id": "eVNLNkiHw-Cn"
      },
      "outputs": [],
      "source": [
        "import seaborn as sns\n",
        "\n",
        "sns.set(style=\"whitegrid\", palette=\"GnBu_d\", rc={'figure.figsize':(11.7,8.27)})\n",
        "\n",
        "iris2 = pd.melt(iris_data, \"species\", var_name=\"measurement\")\n",
        "\n",
        "sns.swarmplot(x=\"measurement\", y=\"value\", hue=\"species\",palette=\"GnBu_d\", data=iris2)\n",
        "\n",
        "sns.despine()\n",
        "\n",
        "import matplotlib.pyplot as plt\n",
        "plt.show()"
      ]
    },
    {
      "cell_type": "code",
      "execution_count": null,
      "metadata": {
        "id": "z1_e_MSuw-Cr"
      },
      "outputs": [],
      "source": [
        "import seaborn as sns\n",
        "sns.set(style=\"whitegrid\", palette=\"GnBu_d\", rc={'figure.figsize':(11.7,8.27)})\n",
        "\n",
        "\n",
        "sns.violinplot(x=\"species\", y=\"petal_length\", palette=\"GnBu_d\", data=iris_data)\n",
        "sns.despine()\n",
        "import matplotlib.pyplot as plt\n",
        "plt.show()\n"
      ]
    },
    {
      "cell_type": "code",
      "execution_count": null,
      "metadata": {
        "id": "SPGW47fLw-Cr"
      },
      "outputs": [],
      "source": [
        "import seaborn as sns\n",
        "sns.set(style=\"whitegrid\", palette=\"GnBu_d\", rc={'figure.figsize':(11.7,8.27)})\n",
        "\n",
        "sns.violinplot(x=\"species\", y=\"petal_width\", palette=\"GnBu_d\", data=iris_data)\n",
        "sns.despine()\n",
        "\n",
        "import matplotlib.pyplot as plt\n",
        "plt.show()"
      ]
    },
    {
      "cell_type": "code",
      "execution_count": null,
      "metadata": {
        "id": "5EyPHI-xw-Cs"
      },
      "outputs": [],
      "source": [
        "import matplotlib.pyplot as plt\n",
        "iris_data.plot(kind='box', subplots=True, layout=(2,2), sharex=False, sharey=False)\n",
        "plt.show()"
      ]
    },
    {
      "cell_type": "markdown",
      "metadata": {
        "id": "irXwi0pWw-Cs"
      },
      "source": [
        "# KNN"
      ]
    },
    {
      "cell_type": "code",
      "execution_count": null,
      "metadata": {
        "collapsed": true,
        "id": "SkyRtB44w-Cs"
      },
      "outputs": [],
      "source": [
        "from sklearn.datasets import load_iris"
      ]
    },
    {
      "cell_type": "code",
      "execution_count": null,
      "metadata": {
        "id": "DmM6DEI2w-Cs",
        "outputId": "0d559af3-f80f-4adc-856c-f566ccf91081"
      },
      "outputs": [
        {
          "data": {
            "text/plain": [
              "sklearn.utils.Bunch"
            ]
          },
          "execution_count": 110,
          "metadata": {},
          "output_type": "execute_result"
        }
      ],
      "source": [
        "iris = load_iris()\n",
        "type(iris)"
      ]
    },
    {
      "cell_type": "markdown",
      "source": [
        "Посмотрим на данные еще раз, убедимся что с ними все ок"
      ],
      "metadata": {
        "id": "koZU7DmU0MUd"
      }
    },
    {
      "cell_type": "code",
      "execution_count": null,
      "metadata": {
        "id": "6LOCYGYcw-Cs"
      },
      "outputs": [],
      "source": [
        "print(iris.data)"
      ]
    },
    {
      "cell_type": "code",
      "execution_count": null,
      "metadata": {
        "id": "JqXx9cWjw-Ct",
        "outputId": "7e467491-d22f-46a9-c9d8-f00e7a364d24"
      },
      "outputs": [
        {
          "name": "stdout",
          "output_type": "stream",
          "text": [
            "[0 0 0 0 0 0 0 0 0 0 0 0 0 0 0 0 0 0 0 0 0 0 0 0 0 0 0 0 0 0 0 0 0 0 0 0 0\n",
            " 0 0 0 0 0 0 0 0 0 0 0 0 0 1 1 1 1 1 1 1 1 1 1 1 1 1 1 1 1 1 1 1 1 1 1 1 1\n",
            " 1 1 1 1 1 1 1 1 1 1 1 1 1 1 1 1 1 1 1 1 1 1 1 1 1 1 2 2 2 2 2 2 2 2 2 2 2\n",
            " 2 2 2 2 2 2 2 2 2 2 2 2 2 2 2 2 2 2 2 2 2 2 2 2 2 2 2 2 2 2 2 2 2 2 2 2 2\n",
            " 2 2]\n",
            "['setosa' 'versicolor' 'virginica']\n",
            "['sepal length (cm)', 'sepal width (cm)', 'petal length (cm)', 'petal width (cm)']\n"
          ]
        }
      ],
      "source": [
        "# целевые переменные\n",
        "print(iris.target)\n",
        "\n",
        "# имена  целевых переменных\n",
        "print(iris.target_names)\n",
        "\n",
        "# имена признаков\n",
        "print(iris.feature_names)"
      ]
    },
    {
      "cell_type": "code",
      "execution_count": null,
      "metadata": {
        "id": "5BYhVQ2Jw-Ct"
      },
      "outputs": [],
      "source": [
        "from sklearn.datasets import load_iris\n",
        "iris = load_iris()\n",
        "\n",
        "from matplotlib import pyplot as plt\n",
        "\n",
        "# The indices of the features that we are plotting\n",
        "x_index = 0\n",
        "y_index = 1\n",
        "\n",
        "# this formatter will label the colorbar with the correct target names\n",
        "formatter = plt.FuncFormatter(lambda i, *args: iris.target_names[int(i)])\n",
        "\n",
        "plt.figure(figsize=(5, 4))\n",
        "plt.scatter(iris.data[:, x_index], iris.data[:, y_index], c=iris.target)\n",
        "plt.colorbar(ticks=[0, 1, 2], format=formatter)\n",
        "plt.xlabel(iris.feature_names[x_index])\n",
        "plt.ylabel(iris.feature_names[y_index])\n",
        "\n",
        "plt.tight_layout()\n",
        "plt.show()"
      ]
    },
    {
      "cell_type": "code",
      "execution_count": null,
      "metadata": {
        "id": "d3M_JAuHw-Ct"
      },
      "outputs": [],
      "source": [
        "X = iris.data\n",
        "y = iris.target\n",
        "\n",
        "print(X.shape)\n",
        "print(y.shape)\n",
        "print(np.unique(y))"
      ]
    },
    {
      "cell_type": "markdown",
      "source": [
        "Загружаем модель KNN"
      ],
      "metadata": {
        "id": "e_FC2OOC0lTa"
      }
    },
    {
      "cell_type": "code",
      "execution_count": null,
      "metadata": {
        "id": "jFIcMUigw-Ct"
      },
      "outputs": [],
      "source": [
        "\n",
        "from sklearn.neighbors import KNeighborsClassifier\n",
        "\n",
        "# instantiate learning model (k = 1)\n",
        "knn = KNeighborsClassifier(n_neighbors=1)\n",
        "\n",
        "print(knn)"
      ]
    },
    {
      "cell_type": "code",
      "execution_count": null,
      "metadata": {
        "id": "pbkgCvxww-Cu",
        "outputId": "18fe0022-0644-4451-a72f-016eee391284"
      },
      "outputs": [
        {
          "data": {
            "text/plain": [
              "KNeighborsClassifier(algorithm='auto', leaf_size=30, metric='minkowski',\n",
              "           metric_params=None, n_jobs=1, n_neighbors=1, p=2,\n",
              "           weights='uniform')"
            ]
          },
          "execution_count": 117,
          "metadata": {},
          "output_type": "execute_result"
        }
      ],
      "source": [
        "knn.fit(x, y)"
      ]
    },
    {
      "cell_type": "code",
      "execution_count": null,
      "metadata": {
        "id": "qQtr8gp4w-Cu"
      },
      "outputs": [],
      "source": [
        "# Попробуем определить тип ириса у которого\n",
        "# 3 см x 5 см чашелистик и 4 см x 2 см лепесток?\n",
        "\n",
        "result = knn.predict([[3, 5, 4, 2]])\n",
        "\n",
        "print(iris.target_names[result])"
      ]
    },
    {
      "cell_type": "code",
      "execution_count": null,
      "metadata": {
        "id": "viVrQaxQw-Cu"
      },
      "outputs": [],
      "source": [
        "X_new = [[3, 5, 4, 2], [5, 4, 3, 2]]\n",
        "knn.predict(X_new)"
      ]
    },
    {
      "cell_type": "code",
      "execution_count": null,
      "metadata": {
        "id": "0MTdJSjdw-Cu",
        "outputId": "4ecf0664-2c12-486a-96ce-f064e8f78fbb"
      },
      "outputs": [
        {
          "data": {
            "image/png": "[encoded data removed]",
            "text/plain": [
              "<matplotlib.figure.Figure at 0x1a19169278>"
            ]
          },
          "metadata": {},
          "output_type": "display_data"
        }
      ],
      "source": [
        "import numpy as np\n",
        "from matplotlib import pyplot as plt\n",
        "from sklearn import neighbors, datasets\n",
        "from matplotlib.colors import ListedColormap\n",
        "\n",
        "\n",
        "cmap_light = ListedColormap(['#FFAAAA', '#AAFFAA', '#AAAAFF'])\n",
        "cmap_bold = ListedColormap(['#FF0000', '#00FF00', '#0000FF'])\n",
        "\n",
        "iris = datasets.load_iris()\n",
        "X = iris.data[:, :2]\n",
        "y = iris.target\n",
        "\n",
        "knn = neighbors.KNeighborsClassifier(n_neighbors=1)\n",
        "knn.fit(X, y)\n",
        "\n",
        "x_min, x_max = X[:, 0].min() - .1, X[:, 0].max() + .1\n",
        "y_min, y_max = X[:, 1].min() - .1, X[:, 1].max() + .1\n",
        "xx, yy = np.meshgrid(np.linspace(x_min, x_max, 100),\n",
        "                        np.linspace(y_min, y_max, 100))\n",
        "Z = knn.predict(np.c_[xx.ravel(), yy.ravel()])\n",
        "\n",
        "Z = Z.reshape(xx.shape)\n",
        "plt.figure()\n",
        "plt.pcolormesh(xx, yy, Z, cmap=cmap_light)\n",
        "\n",
        "# Plot also the training points\n",
        "plt.scatter(X[:, 0], X[:, 1], c=y, cmap=cmap_bold)\n",
        "plt.xlabel('sepal length (cm)')\n",
        "plt.ylabel('sepal width (cm)')\n",
        "plt.axis('tight')\n",
        "plt.show()"
      ]
    },
    {
      "cell_type": "markdown",
      "source": [
        "Попробуйте поварьировать число K и обучить новые алгоритмы, посмотрев как меняются границы между классами.\n",
        "\n",
        "Дополнительно нужно посчитать качество классификации - смотрите ноутбук classification.ipynb для примеров"
      ],
      "metadata": {
        "id": "v_AnMmpi06so"
      }
    }
  ],
  "metadata": {
    "kernelspec": {
      "display_name": "Python 3",
      "language": "python",
      "name": "python3"
    },
    "language_info": {
      "codemirror_mode": {
        "name": "ipython",
        "version": 3
      },
      "file_extension": ".py",
      "mimetype": "text/x-python",
      "name": "python",
      "nbconvert_exporter": "python",
      "pygments_lexer": "ipython3",
      "version": "3.6.3"
    },
    "colab": {
      "provenance": [],
      "toc_visible": true
    }
  },
  "nbformat": 4,
  "nbformat_minor": 0
}